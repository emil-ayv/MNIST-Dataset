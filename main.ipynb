{
 "cells": [
  {
   "cell_type": "code",
   "execution_count": 2,
   "metadata": {},
   "outputs": [],
   "source": [
    "import numpy as np \n",
    "import torch \n",
    "import torch.nn as nn \n",
    "import torch.optim as optim\n",
    "import torch.nn.functional as F \n",
    "from torch.utils.data import Dataset, DataLoader \n",
    "from torchvision import datasets, transforms\n",
    "import matplotlib.pyplot as plt"
   ]
  },
  {
   "cell_type": "code",
   "execution_count": 3,
   "metadata": {},
   "outputs": [],
   "source": [
    "transform = transforms.Compose([transforms.ToTensor(), transforms.Normalize((0.5,), (0.5,))])\n",
    "\n",
    "train_dataset = datasets.MNIST('./data', train = True, download = True, \n",
    "                       transform = transform )\n",
    "\n",
    "test_dataset = datasets.MNIST('./data', train = False, download = True, \n",
    "                       transform = transform)\n",
    "\n",
    "train_loader = torch.utils.data.DataLoader(train_dataset, batch_size=10, shuffle=True)\n",
    "test_loader = torch.utils.data.DataLoader(test_dataset, batch_size=10, shuffle=False)"
   ]
  },
  {
   "cell_type": "code",
   "execution_count": 6,
   "metadata": {},
   "outputs": [
    {
     "name": "stdout",
     "output_type": "stream",
     "text": [
      "torch.Size([10, 1, 28, 28]) torch.Size([10])\n"
     ]
    },
    {
     "data": {
      "image/png": "[encoded data removed]",
      "text/plain": [
       "<Figure size 640x480 with 6 Axes>"
      ]
     },
     "metadata": {},
     "output_type": "display_data"
    }
   ],
   "source": [
    "examples = iter(test_loader)\n",
    "example_data, example_targets = next(examples)\n",
    "print(example_data.shape, example_targets.shape)\n",
    "\n",
    "\n",
    "for i in range(6):\n",
    "    plt.subplot(2,3,i+1)\n",
    "    plt.imshow(example_data[i][0])\n",
    "plt.show()"
   ]
  },
  {
   "cell_type": "code",
   "execution_count": 5,
   "metadata": {},
   "outputs": [
    {
     "name": "stdout",
     "output_type": "stream",
     "text": [
      "{0: 5923, 1: 6742, 2: 5958, 3: 6131, 4: 5842, 5: 5421, 6: 5918, 7: 6265, 8: 5851, 9: 5949} 60000\n",
      "0: 9.872 %\n",
      "1: 11.237 %\n",
      "2: 9.930 %\n",
      "3: 10.218 %\n",
      "4: 9.737 %\n",
      "5: 9.035 %\n",
      "6: 9.863 %\n",
      "7: 10.442 %\n",
      "8: 9.752 %\n",
      "9: 9.915 %\n"
     ]
    }
   ],
   "source": [
    "total = 0\n",
    "counter_dict = {0:0, 1:0, 2:0, 3:0, 4:0, 5:0, 6:0, 7:0, 8:0 , 9:0}\n",
    "\n",
    "for data in train_loader:\n",
    "      Xs, ys = data \n",
    "      for y in ys:\n",
    "            counter_dict[int(y)] += 1\n",
    "            total += 1\n",
    "            \n",
    "print(counter_dict, total)\n",
    "\n",
    "for i in counter_dict:\n",
    "      print(f'{i}: {(counter_dict[i] / total * 100):.3f} %')"
   ]
  },
  {
   "cell_type": "code",
   "execution_count": 6,
   "metadata": {},
   "outputs": [
    {
     "name": "stdout",
     "output_type": "stream",
     "text": [
      "Loss 1:  0.20867402851581573\n",
      "Loss 2:  0.24208013713359833\n",
      "Loss 3:  0.6584407091140747\n",
      "Loss 4:  0.0393049493432045\n",
      "Loss 5:  0.0015584814827889204\n",
      "Test accuracy: 96.66%\n"
     ]
    }
   ],
   "source": [
    "# Определение архитектуры нейронной сети\n",
    "class Net(nn.Module):\n",
    "      def __init__(self):\n",
    "            super().__init__()\n",
    "            self.fc1 = nn.Linear(28*28, 64)\n",
    "            self.fc2 = nn.Linear(64, 64)\n",
    "            self.fc3 = nn.Linear(64, 64)\n",
    "            self.fc4 = nn.Linear(64, 10)\n",
    "            \n",
    "      def forward(self, x):\n",
    "            x = F.relu(self.fc1(x))\n",
    "            x = F.relu(self.fc2(x))\n",
    "            x = F.relu(self.fc3(x))\n",
    "            x = self.fc4(x)      \n",
    "            \n",
    "            return F.log_softmax(x, dim = 1)\n",
    "      \n",
    "      \n",
    "# Инициализация модели, оптимизатора и функции потерь\n",
    "model = Net()\n",
    "optimizer = optim.Adam(model.parameters(), lr = 0.001)\n",
    "criterion = nn.CrossEntropyLoss()\n",
    "\n",
    "\n",
    "# Обучение модели\n",
    "EPOCHS = 5\n",
    "for epoch in range(EPOCHS):\n",
    "      model.train()\n",
    "      for data, target in train_loader: # 10 features, 10 targets\n",
    "            optimizer.zero_grad()\n",
    "            output = model(data.view(-1, 28*28))\n",
    "            loss = F.nll_loss(output, target)\n",
    "            loss.backward()\n",
    "            optimizer.step()\n",
    "      print(f\"Loss {epoch + 1}:  {loss}\")\n",
    "      \n",
    "      \n",
    "# Оценка модели на тестовом наборе данных\n",
    "model.eval()\n",
    "correct = 0\n",
    "total = 0\n",
    "with torch.no_grad():\n",
    "      for data , target in train_loader:\n",
    "            output = model(data.view(-1, 784))\n",
    "            for idx , i in enumerate(output):\n",
    "                  if torch.argmax(i) == target[idx]:\n",
    "                        correct += 1\n",
    "                  total += 1\n",
    "\n",
    "print('Test accuracy: {:.2%}'.format(correct / total))"
   ]
  }
 ],
 "metadata": {
  "kernelspec": {
   "display_name": "base",
   "language": "python",
   "name": "python3"
  },
  "language_info": {
   "codemirror_mode": {
    "name": "ipython",
    "version": 3
   },
   "file_extension": ".py",
   "mimetype": "text/x-python",
   "name": "python",
   "nbconvert_exporter": "python",
   "pygments_lexer": "ipython3",
   "version": "3.11.4"
  }
 },
 "nbformat": 4,
 "nbformat_minor": 2
}
